{
 "cells": [
  {
   "cell_type": "markdown",
   "metadata": {},
   "source": [
    "#  (# Content ______) means that code needs updating there\n",
    "\n",
    "### https://www.youtube.com/watch?v=ifKintlPE_A\n",
    "\n",
    "### https://hackernoon.com/how-to-build-a-simple-spam-detecting-machine-learning-classifier-4471fe6b816e"
   ]
  },
  {
   "cell_type": "code",
   "execution_count": null,
   "metadata": {
    "collapsed": true
   },
   "outputs": [],
   "source": []
  },
  {
   "cell_type": "code",
   "execution_count": 1,
   "metadata": {
    "collapsed": true
   },
   "outputs": [],
   "source": [
    "import numpy as np\n",
    "import pandas as pd\n"
   ]
  },
  {
   "cell_type": "code",
   "execution_count": 2,
   "metadata": {
    "collapsed": true
   },
   "outputs": [],
   "source": [
    "pSpam=0 #calculate pSpam as count(spam)/count(Total)\n",
    "PNSpam=1.0-pSpam\n",
    "trainPositive={}\n",
    "trainNegative={}"
   ]
  },
  {
   "cell_type": "code",
   "execution_count": 3,
   "metadata": {
    "collapsed": true
   },
   "outputs": [],
   "source": [
    "# working on the data set \n",
    "\n",
    "import pickle\n",
    "emails=open('Dataset.pickle','rb')\n",
    "emailSet=pickle.load(emails)\n",
    "emails.close()"
   ]
  },
  {
   "cell_type": "code",
   "execution_count": 4,
   "metadata": {
    "collapsed": true
   },
   "outputs": [],
   "source": [
    "#initializing the dictionarties of count of(words  ---> count) for spam and ham\n",
    "\n",
    "ham_word_count_dictionary={}\n",
    "spam_word_count_dictionary={}\n",
    "pSpam=0\n",
    "pNotSpam=0\n",
    "totalSpam=0\n",
    "totalHam=0\n",
    "wordCountSpam=0\n",
    "wordCountHam=0\n",
    "\n",
    "\n",
    "#these are global dictionaries that can be altered by function. Change them to class after code ______\n",
    "#they have been initialized so that they dont have to be evaluated again and again, since its very expensive to calculate\n",
    "# for example word count spam= spam_word_count_dictionary.keys() < -  length takes O(n)"
   ]
  },
  {
   "cell_type": "code",
   "execution_count": 5,
   "metadata": {},
   "outputs": [
    {
     "name": "stdout",
     "output_type": "stream",
     "text": [
      "0\n",
      "0\n"
     ]
    }
   ],
   "source": [
    "def makeDictionary(email,isSpam):\n",
    "    \n",
    "    emailWords=email.split(' ')\n",
    "    if isSpam:\n",
    "        #the email coming is spam\n",
    "        for word in emailWords:\n",
    "            spam_word_count_dictionary[word]=spam_word_count_dictionary.get(word,0)+1 #this says that if word dont exist, then put the count as 0 and initialize that word, else it will throw a tracerback error4\n",
    "    else:\n",
    "        for word in emailWords:\n",
    "            # ham_word_count_dictionary[word]+=1 wont wor\n",
    "            ham_word_count_dictionary[word]=ham_word_count_dictionary.get(word,0)+1\n",
    "\n",
    "print wordCountSpam   \n",
    "print len(spam_word_count_dictionary.keys())"
   ]
  },
  {
   "cell_type": "code",
   "execution_count": 6,
   "metadata": {
    "collapsed": true
   },
   "outputs": [],
   "source": [
    "# cleaning and making the data set\n",
    "\n",
    "def cleanEmail(email):\n",
    "    string=''\n",
    "    for character in email:\n",
    "        if character=='\\r' or character=='\\n':\n",
    "            string+=' '\n",
    "        else:\n",
    "            string+=character\n",
    "            continue\n",
    "    return string\n",
    "\n",
    "'''\n",
    "emails=emailSet.values()\n",
    "print cleanEmail(emails[0][1]).split(' ')'''\n",
    "\n",
    "\n",
    "def cleanAndMakeDictionaries(emailSet):\n",
    "    # email set is again a dictionary having email[0] and email[1]\n",
    "    \n",
    "    emails=emailSet.values()\n",
    "    \n",
    "    for i in range(len(emails[0])): # all the ham emails\n",
    "        email=cleanEmail(emails[0][i])\n",
    "        makeDictionary(email,0) # for ham\n",
    "        \n",
    "    for i in range(len(emails[1])): # all the ham emails\n",
    "        email=cleanEmail(emails[1][i])\n",
    "        makeDictionary(email,1) # for spam\n",
    "    \n",
    "#cleanAndMakeDictionaries(emailSet)  this block is working very well\n"
   ]
  },
  {
   "cell_type": "code",
   "execution_count": 7,
   "metadata": {
    "collapsed": true
   },
   "outputs": [],
   "source": [
    "def condProbWord(word,isSpam):\n",
    "    if isSpam:\n",
    "        return (spam_word_count_dictionary.get(word,0)+1)/(totalSpam+wordCountSpam)\n",
    "    \n",
    "    return (ham_word_count_dictionary.get(word,0)+1)/(totalHam+wordCountHam)\n",
    "\n",
    "def condProbEmail(email,isSpam):\n",
    "    product=1.0\n",
    "    emailWords=email.split(' ')\n",
    "    for word in emailWords:\n",
    "        product*=condProbWord(word,isSpam)   \n",
    "    return product   \n",
    "\n",
    "def classifyEmail(email):\n",
    "    #so email is comming and we have to classify that email\n",
    "    email=cleanEmail(email)\n",
    "    pSpamGivenEmail=pSpam*condProbEmail(email,1)\n",
    "    pNotSpamGivenEmail=pNotSpam*condProbEmail(email,0)\n",
    "    if pSpamGivenEmail> pNotSpamGivenEmail:\n",
    "        return 1\n",
    "    else:\n",
    "        return 0"
   ]
  },
  {
   "cell_type": "code",
   "execution_count": 13,
   "metadata": {},
   "outputs": [
    {
     "name": "stderr",
     "output_type": "stream",
     "text": [
      "IOPub data rate exceeded.\n",
      "The notebook server will temporarily stop sending output\n",
      "to the client in order to avoid crashing it.\n",
      "To change this limit, set the config variable\n",
      "`--NotebookApp.iopub_data_rate_limit`.\n"
     ]
    }
   ],
   "source": [
    "cleanAndMakeDictionaries(emailSet)\n",
    "emails=emailSet.values()    \n",
    "totalSpam=len(emails[1])\n",
    "totalHam=len(emails[0])\n",
    "pSpam=totalSpam/(totalSpam+totalHam+0.0)\n",
    "pNotSpam=totalHam/(totalHam+totalSpam+0.0)\n",
    "wordCountSpam=len(spam_word_count_dictionary.keys())\n",
    "wordCountHam=len(ham_word_count_dictionary.keys())\n",
    "\n",
    "emailSet"
   ]
  },
  {
   "cell_type": "code",
   "execution_count": 10,
   "metadata": {},
   "outputs": [
    {
     "name": "stdout",
     "output_type": "stream",
     "text": [
      "Email is Ham\n"
     ]
    }
   ],
   "source": [
    "email='discount 20% on jewelleryy'\n",
    "reply=classifyEmail(email)\n",
    "if reply==1:\n",
    "    print 'Email is Spam'\n",
    "\n",
    "else:\n",
    "    print 'Email is Ham'"
   ]
  },
  {
   "cell_type": "code",
   "execution_count": null,
   "metadata": {},
   "outputs": [],
   "source": []
  }
 ],
 "metadata": {
  "kernelspec": {
   "display_name": "Python 2",
   "language": "python",
   "name": "python2"
  },
  "language_info": {
   "codemirror_mode": {
    "name": "ipython",
    "version": 2
   },
   "file_extension": ".py",
   "mimetype": "text/x-python",
   "name": "python",
   "nbconvert_exporter": "python",
   "pygments_lexer": "ipython2",
   "version": "2.7.14"
  }
 },
 "nbformat": 4,
 "nbformat_minor": 2
}
