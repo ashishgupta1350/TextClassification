{
 "cells": [
  {
   "cell_type": "code",
   "execution_count": 1,
   "metadata": {
    "collapsed": true
   },
   "outputs": [],
   "source": [
    "import numpy as np\n",
    "from sklearn.naive_bayes import GaussianNB\n",
    "from sklearn.tree import DecisionTreeClassifier as DTC\n",
    "import os\n",
    "from sklearn import datasets as ds\n",
    "from sklearn import model_selection as ms"
   ]
  },
  {
   "cell_type": "markdown",
   "metadata": {},
   "source": [
    "# This is filtering each file to get pure data , first we remove all the stop words from the file and then filter out the \\r the \\n and all the stop words from the files to get pure words that work!"
   ]
  },
  {
   "cell_type": "code",
   "execution_count": 2,
   "metadata": {},
   "outputs": [],
   "source": [
    "stopword={}\n",
    "s_words=open('stopwords.txt','r')\n",
    "s_words_data=s_words.read()\n",
    "for x in s_words_data.split('\\n'):\n",
    "    stopword[x]=1"
   ]
  },
  {
   "cell_type": "code",
   "execution_count": 3,
   "metadata": {},
   "outputs": [],
   "source": [
    "def createArrayOfStrings(data):\n",
    "    \n",
    "    py=data.split(' ')\n",
    "    arr=[]\n",
    "    for x in range(len(py)):\n",
    "        word=''\n",
    "        word=py[x].replace('\\n','')\n",
    "        word=word.replace('\\r','')\n",
    "        word=word.replace('\\t','')\n",
    "        word=word.replace(',','')\n",
    "        word=word.replace('(','')\n",
    "        word=word.replace(').','')\n",
    "        word=word.replace(')','')\n",
    "        word=word.replace('.','')\n",
    "        word=word.replace('\"','')    \n",
    "        word=word.lower()\n",
    "        if word=='':\n",
    "            continue\n",
    "        elif word in stopword.keys():\n",
    "        \n",
    "            continue\n",
    "        else:\n",
    "            arr.append(word)\n",
    "    return arr\n",
    "\n",
    "def filterLabels(labels):\n",
    "    for x in range(len(labels)):\n",
    "        labels[x]=labels[x].replace('mini_newsgroups/','')\n",
    "    return labels"
   ]
  },
  {
   "cell_type": "code",
   "execution_count": 4,
   "metadata": {},
   "outputs": [
    {
     "name": "stdout",
     "output_type": "stream",
     "text": [
      "mini_newsgroups/alt.atheism\n",
      "mini_newsgroups/comp.graphics\n",
      "mini_newsgroups/comp.os.ms-windows.misc\n",
      "mini_newsgroups/comp.sys.ibm.pc.hardware\n",
      "mini_newsgroups/comp.sys.mac.hardware\n",
      "mini_newsgroups/comp.windows.x\n",
      "mini_newsgroups/misc.forsale\n",
      "mini_newsgroups/rec.autos\n",
      "mini_newsgroups/rec.motorcycles\n",
      "mini_newsgroups/rec.sport.baseball\n",
      "mini_newsgroups/rec.sport.hockey\n",
      "mini_newsgroups/sci.crypt\n",
      "mini_newsgroups/sci.electronics\n",
      "mini_newsgroups/sci.med\n",
      "mini_newsgroups/sci.space\n",
      "mini_newsgroups/soc.religion.christian\n",
      "mini_newsgroups/talk.politics.guns\n",
      "mini_newsgroups/talk.politics.mideast\n",
      "mini_newsgroups/talk.politics.misc\n",
      "mini_newsgroups/talk.religion.misc\n"
     ]
    }
   ],
   "source": [
    "'''path = 'mini_newsgroups/sci.space/'\n",
    "data=[]\n",
    "labels=[]\n",
    "for itemName in os.listdir(path):\n",
    "    itemName = os.path.join(path, itemName)\n",
    "    file_readed=open(itemName)\n",
    "    arr=createArrayOfStrings(file_readed.read())\n",
    "    data.append(arr)\n",
    "    labels.append(path)'''\n",
    "\n",
    "path = 'mini_newsgroups/'\n",
    "data=[]\n",
    "labels=[]\n",
    "for itemName in os.listdir(path):\n",
    "    itemName = os.path.join(path, itemName)\n",
    "    print itemName\n",
    "    for myPath in os.listdir(itemName):\n",
    "        myPath=os.path.join(itemName,myPath)\n",
    "        file_readed = open(myPath)\n",
    "        arr=createArrayOfStrings(file_readed.read())\n",
    "        data.append(arr)\n",
    "        labels.append(itemName)\n",
    "        close(file_readed)\n",
    "     \n"
   ]
  },
  {
   "cell_type": "code",
   "execution_count": 5,
   "metadata": {},
   "outputs": [
    {
     "name": "stdout",
     "output_type": "stream",
     "text": [
      "24266\n"
     ]
    }
   ],
   "source": [
    "# so the data is now a 2d array, and now we are going to create a dictionary for every word in each data\n",
    "labels=filterLabels(labels)   \n",
    "\n",
    "dictionary={}\n",
    "\n",
    "for x in data:\n",
    "    for y in x:\n",
    "        dictionary[y]=dictionary.get(y,0)+1 #if y not there then place 1 and y in the dictionary as Value and Key resp...\n",
    "\n",
    "# these are the features for the dataset and we are going to train the GNB on this dataset now!\n",
    "\n",
    "\n",
    "# remove the elements which have the value 1 in the dictionary\n",
    "for key in dictionary.keys():\n",
    "    if dictionary[key]==1:\n",
    "        del (dictionary[key])\n",
    "\n",
    "print len(dictionary)"
   ]
  },
  {
   "cell_type": "code",
   "execution_count": 6,
   "metadata": {},
   "outputs": [],
   "source": [
    "# Create a feature Matrix, where num features are number of words in the dictionary:\n",
    "feature_length=len(dictionary.keys())\n",
    "words_dictionary=dictionary.keys()\n",
    "#creating 2 D matrix now:\n",
    "X,noUse=np.mgrid[0:len(data), 0:len(dictionary.keys())] #this is a 2d matrix that we will now use\n",
    "for i in range(len(data)):\n",
    "    #this is string of one document, filtered of stop words, create a dictionary of words\n",
    "    d={}\n",
    "    for word in data[i]:\n",
    "        d[word]=d.get(word,0)+1\n",
    "        \n",
    "    for j in range(X.shape[1]): # in range X-> [ columns ]\n",
    "        X[i][j]=d.get(words_dictionary[j],0) # say, first word in 'Hello'. Now if 'Hello' exist 2 times in d{}. So this places 2 in X[0][0] "
   ]
  },
  {
   "cell_type": "code",
   "execution_count": 7,
   "metadata": {},
   "outputs": [],
   "source": [
    "clf= GaussianNB()\n",
    "clf=DTC()"
   ]
  },
  {
   "cell_type": "code",
   "execution_count": 8,
   "metadata": {},
   "outputs": [],
   "source": [
    "X_train,X_test,Y_train,Y_test=ms.train_test_split(X,labels)"
   ]
  },
  {
   "cell_type": "code",
   "execution_count": 9,
   "metadata": {},
   "outputs": [
    {
     "data": {
      "text/plain": [
       "DecisionTreeClassifier(class_weight=None, criterion='gini', max_depth=None,\n",
       "            max_features=None, max_leaf_nodes=None,\n",
       "            min_impurity_decrease=0.0, min_impurity_split=None,\n",
       "            min_samples_leaf=1, min_samples_split=2,\n",
       "            min_weight_fraction_leaf=0.0, presort=False, random_state=None,\n",
       "            splitter='best')"
      ]
     },
     "execution_count": 9,
     "metadata": {},
     "output_type": "execute_result"
    }
   ],
   "source": [
    "clf.fit(X_train,Y_train)\n"
   ]
  },
  {
   "cell_type": "code",
   "execution_count": 10,
   "metadata": {},
   "outputs": [],
   "source": [
    "ypred = clf.predict(X_test)\n"
   ]
  },
  {
   "cell_type": "code",
   "execution_count": 11,
   "metadata": {},
   "outputs": [
    {
     "name": "stdout",
     "output_type": "stream",
     "text": [
      "                          precision    recall  f1-score   support\n",
      "\n",
      "             alt.atheism       0.74      0.81      0.78        32\n",
      "           comp.graphics       0.48      0.65      0.55        20\n",
      " comp.os.ms-windows.misc       0.76      0.85      0.80        26\n",
      "comp.sys.ibm.pc.hardware       0.81      0.81      0.81        16\n",
      "   comp.sys.mac.hardware       0.91      0.83      0.87        24\n",
      "          comp.windows.x       0.94      0.88      0.91        17\n",
      "            misc.forsale       0.53      0.83      0.64        23\n",
      "               rec.autos       0.66      0.76      0.70        25\n",
      "         rec.motorcycles       1.00      0.92      0.96        26\n",
      "      rec.sport.baseball       1.00      1.00      1.00        26\n",
      "        rec.sport.hockey       1.00      0.90      0.95        20\n",
      "               sci.crypt       0.82      0.69      0.75        26\n",
      "         sci.electronics       0.93      0.83      0.88        30\n",
      "                 sci.med       1.00      0.71      0.83        31\n",
      "               sci.space       0.89      0.63      0.74        27\n",
      "  soc.religion.christian       0.95      0.90      0.93        21\n",
      "      talk.politics.guns       0.79      0.76      0.78        25\n",
      "   talk.politics.mideast       0.95      0.56      0.71        32\n",
      "      talk.politics.misc       0.35      0.46      0.40        24\n",
      "      talk.religion.misc       0.47      0.62      0.54        29\n",
      "\n",
      "             avg / total       0.80      0.76      0.77       500\n",
      "\n",
      "[[26  0  1  0  0  0  0  0  0  0  0  0  0  0  1  0  0  0  0  4]\n",
      " [ 0 13  1  1  0  0  1  0  0  0  0  1  1  0  0  0  1  0  0  1]\n",
      " [ 0  2 22  0  0  1  0  0  0  0  0  0  0  0  0  0  1  0  0  0]\n",
      " [ 0  1  0 13  0  0  0  1  0  0  0  0  0  0  0  0  0  0  1  0]\n",
      " [ 0  0  0  0 20  0  1  1  0  0  0  0  0  0  0  0  0  0  1  1]\n",
      " [ 0  0  0  0  0 15  1  0  0  0  0  0  0  0  0  0  0  0  0  1]\n",
      " [ 1  1  0  0  0  0 19  1  0  0  0  0  0  0  0  0  1  0  0  0]\n",
      " [ 1  1  0  0  0  0  1 19  0  0  0  0  1  0  0  0  0  0  2  0]\n",
      " [ 0  1  1  0  0  0  0  0 24  0  0  0  0  0  0  0  0  0  0  0]\n",
      " [ 0  0  0  0  0  0  0  0  0 26  0  0  0  0  0  0  0  0  0  0]\n",
      " [ 1  0  0  0  0  0  0  0  0  0 18  0  0  0  0  0  0  0  0  1]\n",
      " [ 0  1  0  0  0  0  1  0  0  0  0 18  0  0  0  1  0  0  2  3]\n",
      " [ 1  1  0  0  0  0  1  1  0  0  0  1 25  0  0  0  0  0  0  0]\n",
      " [ 1  1  0  0  0  0  2  1  0  0  0  0  0 22  0  0  0  0  3  1]\n",
      " [ 1  1  0  0  0  0  1  2  0  0  0  0  0  0 17  0  1  1  1  2]\n",
      " [ 0  0  0  0  1  0  1  0  0  0  0  0  0  0  0 19  0  0  0  0]\n",
      " [ 0  0  1  0  1  0  0  0  0  0  0  2  0  0  0  0 19  0  2  0]\n",
      " [ 1  2  2  0  0  0  2  1  0  0  0  0  0  0  0  0  0 18  4  2]\n",
      " [ 0  2  1  1  0  0  2  1  0  0  0  0  0  0  1  0  1  0 11  4]\n",
      " [ 2  0  0  1  0  0  3  1  0  0  0  0  0  0  0  0  0  0  4 18]]\n"
     ]
    }
   ],
   "source": [
    "from sklearn.metrics import classification_report,confusion_matrix\n",
    "print classification_report(Y_test,ypred)\n",
    "print confusion_matrix(Y_test,ypred)"
   ]
  },
  {
   "cell_type": "code",
   "execution_count": 42,
   "metadata": {},
   "outputs": [
    {
     "name": "stdout",
     "output_type": "stream",
     "text": [
      "alt.atheism\n",
      "False\n",
      "alt.atheism\n",
      "False\n",
      "alt.atheism\n",
      "False\n",
      "alt.atheism\n",
      "False\n",
      "alt.atheism\n",
      "False\n",
      "alt.atheism\n",
      "False\n",
      "alt.atheism\n",
      "False\n",
      "alt.atheism\n",
      "False\n",
      "alt.atheism\n",
      "False\n",
      "alt.atheism\n",
      "False\n",
      "alt.atheism\n",
      "True\n",
      "alt.atheism\n",
      "False\n",
      "alt.atheism\n",
      "False\n",
      "alt.atheism\n",
      "False\n",
      "alt.atheism\n",
      "False\n",
      "alt.atheism\n",
      "False\n",
      "alt.atheism\n",
      "False\n",
      "alt.atheism\n",
      "False\n",
      "alt.atheism\n",
      "False\n",
      "alt.atheism\n",
      "False\n"
     ]
    }
   ],
   "source": [
    "set(labels)\n",
    "for x in set(labels):\n",
    "    "
   ]
  },
  {
   "cell_type": "code",
   "execution_count": null,
   "metadata": {
    "collapsed": true
   },
   "outputs": [],
   "source": []
  }
 ],
 "metadata": {
  "kernelspec": {
   "display_name": "Python 2",
   "language": "python",
   "name": "python2"
  },
  "language_info": {
   "codemirror_mode": {
    "name": "ipython",
    "version": 2
   },
   "file_extension": ".py",
   "mimetype": "text/x-python",
   "name": "python",
   "nbconvert_exporter": "python",
   "pygments_lexer": "ipython2",
   "version": "2.7.14"
  }
 },
 "nbformat": 4,
 "nbformat_minor": 2
}
